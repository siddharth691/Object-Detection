{
 "cells": [
  {
   "cell_type": "code",
   "execution_count": 1,
   "metadata": {},
   "outputs": [],
   "source": [
    "import tensorflow as tf\n",
    "import numpy as np\n",
    "import pandas as pd\n",
    "import os\n",
    "import json\n",
    "import cv2"
   ]
  },
  {
   "cell_type": "code",
   "execution_count": 2,
   "metadata": {},
   "outputs": [],
   "source": [
    "#Paths\n",
    "dir = './data'\n",
    "trainPath = os.path.join(dir, 'train')\n",
    "testPath = os.path.join(dir, 'test')\n",
    "annoPath = os.path.join(dir, 'annotations.json')\n",
    "otherPath = os.path.join(dir, 'other')"
   ]
  },
  {
   "cell_type": "code",
   "execution_count": 3,
   "metadata": {},
   "outputs": [],
   "source": [
    "#Reading annotations file\n",
    "with open(annoPath, 'r') as f:\n",
    "    file = json.load(f)"
   ]
  },
  {
   "cell_type": "code",
   "execution_count": 4,
   "metadata": {},
   "outputs": [
    {
     "data": {
      "text/plain": [
       "dict_keys(['imgs', 'types'])"
      ]
     },
     "execution_count": 4,
     "metadata": {},
     "output_type": "execute_result"
    }
   ],
   "source": [
    "file.keys()"
   ]
  },
  {
   "cell_type": "code",
   "execution_count": 5,
   "metadata": {},
   "outputs": [],
   "source": [
    "#List of all categories\n",
    "categories = file['types']"
   ]
  },
  {
   "cell_type": "code",
   "execution_count": 6,
   "metadata": {
    "scrolled": true
   },
   "outputs": [
    {
     "data": {
      "text/plain": [
       "16811"
      ]
     },
     "execution_count": 6,
     "metadata": {},
     "output_type": "execute_result"
    }
   ],
   "source": [
    "#Number of total images\n",
    "len(file['imgs'].keys())"
   ]
  },
  {
   "cell_type": "code",
   "execution_count": 7,
   "metadata": {},
   "outputs": [
    {
     "name": "stdout",
     "output_type": "stream",
     "text": [
      "No. of training images in data folder = 6107\n",
      "No. of training images in annotation file = 6103\n",
      "No. of testing images in data folder = 3073\n",
      "No. of testing images in annotation file = 3067\n",
      "No. of other images in data folder = 7643\n",
      "No. of other images in annotation file = 7641\n"
     ]
    }
   ],
   "source": [
    "#Matching the training images in the data folder and annotation file\n",
    "print(\"No. of training images in data folder = {}\".format(len(os.listdir(trainPath))))\n",
    "count_train = 0\n",
    "count_test = 0\n",
    "count_other = 0\n",
    "trainId = []\n",
    "testId = []\n",
    "otherId = []\n",
    "for imgId in file['imgs'].keys():\n",
    "    path = file['imgs'][imgId]['path']\n",
    "    if 'train' in path:\n",
    "        count_train+=1\n",
    "        trainId.append(path.split('.')[0].split('/')[1])\n",
    "    elif 'test' in path:\n",
    "        count_test+=1\n",
    "        testId.append(path.split('.')[0].split('/')[1])\n",
    "    elif 'other' in path:\n",
    "        count_other+=1\n",
    "        otherId.append(path.split('.')[0].split('/')[1])\n",
    "print(\"No. of training images in annotation file = {}\".format(count_train))\n",
    "print(\"No. of testing images in data folder = {}\".format(len(os.listdir(testPath))))\n",
    "print(\"No. of testing images in annotation file = {}\".format(count_test))\n",
    "print(\"No. of other images in data folder = {}\".format(len(os.listdir(otherPath))))\n",
    "print(\"No. of other images in annotation file = {}\".format(count_other))"
   ]
  },
  {
   "cell_type": "code",
   "execution_count": 8,
   "metadata": {
    "scrolled": true
   },
   "outputs": [
    {
     "name": "stdout",
     "output_type": "stream",
     "text": [
      "{'category': 'pn', 'bbox': {'xmin': 437.333, 'ymin': 1093.33, 'ymax': 1160.0, 'xmax': 492.0}, 'ellipse_org': [[463.035, 1095.72], [441.245, 1116.54], [445.914, 1150.19], [462.646, 1157.59], [479.961, 1153.89], [488.716, 1111.67]], 'ellipse': [[464.7718811035156, 1126.6763916015625], [52.30509567260742, 63.40604019165039], 8.635168075561523]}\n"
     ]
    }
   ],
   "source": [
    "# for iD in trainId:\n",
    "print(file['imgs'][trainId[1]]['objects'][0])"
   ]
  },
  {
   "cell_type": "code",
   "execution_count": 18,
   "metadata": {},
   "outputs": [],
   "source": [
    "#Visualizing bounding box for few images\n",
    "img = cv2.imread(trainPath+'/'+trainId[100]+'.jpg')\n",
    "xmin = int(file['imgs'][trainId[100]]['objects'][4]['bbox']['xmin'])\n",
    "xmax = int(file['imgs'][trainId[100]]['objects'][4]['bbox']['xmax'])\n",
    "ymin = int(file['imgs'][trainId[100]]['objects'][4]['bbox']['ymin'])\n",
    "ymax = int(file['imgs'][trainId[100]]['objects'][4]['bbox']['ymax'])\n",
    "cv2.rectangle(img,(xmin, ymin) ,(xmax, ymax) , (0,255,0),2)\n",
    "cv2.namedWindow('image',cv2.WINDOW_NORMAL)\n",
    "cv2.resizeWindow('image', 1000,1000)\n",
    "cv2.imshow('image', img)\n",
    "cv2.waitKey(0)\n",
    "cv2.destroyAllWindows()\n",
    "# cv2.imshow('bounding box', img)"
   ]
  },
  {
   "cell_type": "code",
   "execution_count": null,
   "metadata": {},
   "outputs": [],
   "source": [
    "#"
   ]
  }
 ],
 "metadata": {
  "kernelspec": {
   "display_name": "tensorflow",
   "language": "python",
   "name": "tensorflow"
  },
  "language_info": {
   "codemirror_mode": {
    "name": "ipython",
    "version": 3
   },
   "file_extension": ".py",
   "mimetype": "text/x-python",
   "name": "python",
   "nbconvert_exporter": "python",
   "pygments_lexer": "ipython3",
   "version": "3.6.5"
  }
 },
 "nbformat": 4,
 "nbformat_minor": 2
}
